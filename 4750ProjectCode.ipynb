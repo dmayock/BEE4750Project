{
 "cells": [
  {
   "cell_type": "code",
   "execution_count": 1,
   "metadata": {},
   "outputs": [
    {
     "name": "stderr",
     "output_type": "stream",
     "text": [
      "\u001b[32m\u001b[1m   Resolving\u001b[22m\u001b[39m package versions...\n",
      "\u001b[32m\u001b[1m  No Changes\u001b[22m\u001b[39m to `C:\\Users\\Deacon\\.julia\\environments\\v1.9\\Project.toml`\n",
      "\u001b[32m\u001b[1m  No Changes\u001b[22m\u001b[39m to `C:\\Users\\Deacon\\.julia\\environments\\v1.9\\Manifest.toml`\n",
      "\u001b[32m\u001b[1m   Resolving\u001b[22m\u001b[39m package versions...\n",
      "\u001b[32m\u001b[1m  No Changes\u001b[22m\u001b[39m to `C:\\Users\\Deacon\\.julia\\environments\\v1.9\\Project.toml`\n",
      "\u001b[32m\u001b[1m  No Changes\u001b[22m\u001b[39m to `C:\\Users\\Deacon\\.julia\\environments\\v1.9\\Manifest.toml`\n"
     ]
    }
   ],
   "source": [
    "using Pkg\n",
    "Pkg.add(\"JuMP\")\n",
    "Pkg.add(\"GLPK\")  # or any other suitable solver, like CPLEX, Gurobi, etc."
   ]
  },
  {
   "cell_type": "code",
   "execution_count": 44,
   "metadata": {},
   "outputs": [],
   "source": [
    "using Distributions\n",
    "using JuMP\n",
    "using HiGHS"
   ]
  },
  {
   "cell_type": "code",
   "execution_count": 72,
   "metadata": {},
   "outputs": [
    {
     "data": {
      "text/plain": [
       "ReplacementCost (generic function with 1 method)"
      ]
     },
     "execution_count": 72,
     "metadata": {},
     "output_type": "execute_result"
    }
   ],
   "source": [
    "#function to calculate replacement cost\n",
    "function ReplacementCost(type, year, age)\n",
    "    gasCost = [20000,25000,35000,50000,30000] #current cost of gas vehicle of type n\n",
    "    elecPremium = [10000,5000,15000,20000,20000] #premium paid for electric version of vehicle n\n",
    "    salvageValue = [5000,6250,8750,20000,7500] #salvage value of gas vehicle of type n\n",
    "    newElecCost = gasCost[type]+elecPremium[type]*2.71^-(0.2*year) #projected cost of new EV in year y\n",
    "    depreciationDiscount = (gasCost[type]-salvageValue[type])/20*age^0.8 #older cars were cheaper when they were bought so less depreciation, 0.8 is an arbitrary number\n",
    "    #discount because a car is old (not selling old gas vehicle but counting new EV as \"cheaper\" because gas vehicle would need to be replaced soon)\n",
    "    return newElecCost - depreciationDiscount\n",
    " end"
   ]
  },
  {
   "cell_type": "code",
   "execution_count": 73,
   "metadata": {},
   "outputs": [
    {
     "data": {
      "text/plain": [
       "newFleet (generic function with 1 method)"
      ]
     },
     "execution_count": 73,
     "metadata": {},
     "output_type": "execute_result"
    }
   ],
   "source": [
    "#create fleet (will replace code in next block)\n",
    "function newFleet(sedans, hybrids, mini, vans, trucks) #inputs are number of each vehicle\n",
    "    s = zeros(sedans, 13)\n",
    "    for i in 1:sedans\n",
    "        a = rand(Uniform(1,14)) #create a random age for the vehicle (this is technically the years left until it should be replaced but it works the same)\n",
    "        for t in 1:13 #for all years\n",
    "            if t < 8 #if gas cars are still allowed\n",
    "                if t < 15-a #if the car is younger than it's replacement age\n",
    "                    s[i,t] = ReplacementCost(1, t, a) + t*fuelCost(1, false) + (13-t)*fuelCost(1, true)\n",
    "                    #current year average cost of EV sedan with slow depreciation to expected future costs\n",
    "                else\n",
    "                    s[i,t] = (ReplacementCost(1, t, a) + t*fuelCost(1, false) + (13-t)*fuelCost(1, true))*1.5 #penalty for not replacing a vehicle by year 15\n",
    "                end\n",
    "            else\n",
    "                s[i,t] = 1000000000 #lower if we want an economic punishment instead of an absolute rule\n",
    "            end\n",
    "        end\n",
    "    end #repeat for all other types of cars\n",
    "    h = zeros(hybrids, 13)\n",
    "    for i in 1:hybrids\n",
    "        a = rand(Uniform(1,14))\n",
    "        for t in 1:13\n",
    "            if t < 8 #if gas cars are still allowed\n",
    "                if t < 15-a #if the car is younger than it's replacement age\n",
    "                    h[i,t] = ReplacementCost(2, t, a) + t*fuelCost(2, false) + (13-t)*fuelCost(2, true)\n",
    "                    #current year average cost of EV sedan with slow depreciation to expected future costs\n",
    "                else\n",
    "                    h[i,t] = (ReplacementCost(2, t, a) + t*fuelCost(2, false) + (13-t)*fuelCost(2, true))*1.5\n",
    "                end\n",
    "            else\n",
    "                h[i,t] = 1000000000 #lower if we want an economic punishment instead of an absolute rule\n",
    "            end\n",
    "        end\n",
    "    end\n",
    "    m = zeros(mini, 13)\n",
    "    for i in 1:mini\n",
    "        a = rand(Uniform(1,14))\n",
    "        for t in 1:13\n",
    "            if t < 15-a\n",
    "                m[i,t] = ReplacementCost(3, t, a) + t*fuelCost(3, false) + (13-t)*fuelCost(3, true)\n",
    "            else\n",
    "                m[i,t] = (ReplacementCost(3, t, a) + t*fuelCost(3, false) + (13-t)*fuelCost(3, true))*1.5\n",
    "            end      \n",
    "        end\n",
    "    end\n",
    "    v = zeros(vans, 13)\n",
    "    for i in 1:vans\n",
    "        a = rand(Uniform(1,14))\n",
    "        for t in 1:13\n",
    "            if t < 15-a\n",
    "                v[i,t] = ReplacementCost(4, t, a) + t*fuelCost(4, false) + (13-t)*fuelCost(4, true)\n",
    "            else\n",
    "                v[i,t] = (ReplacementCost(4, t, a) + t*fuelCost(4, false) + (13-t)*fuelCost(4, true))*1.5\n",
    "            end      \n",
    "        end\n",
    "    end\n",
    "    tr = zeros(trucks, 13)\n",
    "    for i in 1:trucks\n",
    "        a = rand(Uniform(1,14))\n",
    "        for t in 1:13\n",
    "            if t < 15-a\n",
    "                tr[i,t] = ReplacementCost(5, t, a) + t*fuelCost(5, false) + (13-t)*fuelCost(5, true)\n",
    "            else\n",
    "                tr[i,t] = (ReplacementCost(5, t, a) + t*fuelCost(5, false) + (13-t)*fuelCost(5, true))*1.5\n",
    "            end      \n",
    "        end\n",
    "    end\n",
    "    fleet = [s,h,m,v,tr]\n",
    "    return fleet\n",
    "end"
   ]
  },
  {
   "cell_type": "code",
   "execution_count": 76,
   "metadata": {},
   "outputs": [
    {
     "data": {
      "text/plain": [
       "fuelCost (generic function with 1 method)"
      ]
     },
     "execution_count": 76,
     "metadata": {},
     "output_type": "execute_result"
    }
   ],
   "source": [
    "#possible replacement for travelCost function above\n",
    "function fuelCost(type, electric) #type is a number corresponding to the array index, electric is a boolean\n",
    "    fleetMiles = [4000,4000,4000,4000,12000] #based on US survey, car and van miles are 1/3 because fleet services says they are only checked out roughly 1/3 the time while trucks are mostly permanently assigned, same order as variables are initialized\n",
    "    gasCost = [0.18, 0.12, 0.23, 0.32, 0.24] #rough dollars of gas per mile driven, same order as above\n",
    "    elecCost = [0.05,0.05,0.07,0.08,0.1] #rough dollars of electricity per mile driven, same order\n",
    "    if electric\n",
    "        return fleetMiles[type]*elecCost[type]\n",
    "    end\n",
    "    return return fleetMiles[type]*gasCost[type]\n",
    "end"
   ]
  },
  {
   "cell_type": "code",
   "execution_count": 159,
   "metadata": {},
   "outputs": [
    {
     "name": "stdout",
     "output_type": "stream",
     "text": [
      "[55141.355466558 53859.5184096935 79669.63649128638 79207.93127438871 79285.22725511808 79804.08948605016 80684.69628114361 81861.65527625289 83281.39504861538 84900.02825183656 86681.60103077829 88596.65888874634 90621.07180207079; 62252.391818215205 60970.5547613507 60224.12734584813 59916.32386791635 59967.854521735935 60313.76267569065 60900.833872419615 61685.47320249246 62631.96638406745 63711.0551862149 64898.77037217605 66175.47561082142 67525.0842197044; 60227.27645139315 58945.43939452864 58199.01197902607 57891.20850109429 57942.73915491388 58288.64730886859 58875.71850559756 59660.35783567041 60606.8510172454 61685.93981939285 94310.482508031 96225.54036599906 98249.95327932353; 59211.1534559575 57929.316399093 57182.88898359043 56875.085505658644 56926.61615947823 57272.52431343294 57859.59551016191 58644.23484023476 59590.72802180975 91004.72523593581 92786.29801487752 94701.35587284558 96725.76878617004; 58129.367026386666 56847.52996952216 56101.10255401959 55793.29907608781 55844.8297299074 56190.73788386211 56777.809080591076 86343.67261599589 87763.41238835838 89382.04559157955 91163.61837052128 93078.67622848933 95103.0891418138; 60444.776098113274 59162.93904124877 58416.5116257462 58108.70814781442 58160.238801634005 58506.146955588716 59093.218152317684 59877.85748239054 60824.350663965524 61903.43946611298 63091.154652074125 96551.78983607925 98576.20274940372; 60788.69767477797 59506.860617913466 58760.433202410895 58452.62972447911 58504.1603782987 58850.06853225341 59437.13972898238 60221.77905905523 61168.27224063022 62247.36104277767 63435.07622873882 97067.6722010763 99092.08511440075; 60685.464702741796 59403.62764587729 58657.20023037472 58349.39675244294 58400.927406262526 58746.83556021724 59333.906756946206 60118.54608701906 61065.039268594046 62144.1280707415 63331.84325670265 96912.82274302203 98937.23565634647; 58833.77847128445 57551.94141441995 56805.51399891738 56497.710520985594 56549.24117480518 56895.149328759886 57482.220525488854 58266.859855561706 88820.02955570504 90438.66275892622 92220.23553786793 94135.29339583601 96159.70630916047; 59184.97083590918 57903.13377904468 57156.70636354211 56848.902885610325 56900.43353942991 57246.34169338462 57833.412890113585 58618.05222018644 59564.545401761425 90965.45130586332 92747.02408480505 94662.0819427731 96686.49485609756]\n"
     ]
    }
   ],
   "source": [
    "#generate fleet\n",
    "sedans = 400\n",
    "hybrids = 100\n",
    "minis = 100\n",
    "vans = 200\n",
    "trucks = 400\n",
    "\n",
    "Years = 1:13\n",
    "Type = 1:5 #sedan, hybrid, minivan, van, truck in that order\n",
    "S = 1:sedans #sedan size index\n",
    "H = 1:hybrids\n",
    "M = 1:minis\n",
    "V = 1:vans\n",
    "R = 1:trucks\n",
    "\n",
    "fleet = newFleet(sedans, hybrids, minis, vans, trucks)\n",
    "fleetkWh = [1000 1000 1300 1600 6000]\n",
    "charge_cost2 = [5500 5400 5300 5200 5100 5000 4900 4800 4700 4600 4500 4500 4500]\n",
    "charge_cost3 = [50000 45000 42000 39000 36000 34000 32000 30000 28000 26500 25000 24000 23000]\n",
    "\n",
    "println(fleet[5][1:10,:])"
   ]
  },
  {
   "cell_type": "code",
   "execution_count": 160,
   "metadata": {},
   "outputs": [],
   "source": [
    "#create model\n",
    "model = Model(HiGHS.Optimizer)\n",
    "\n",
    "# Decision variables\n",
    "@variable(model, e_s[s in S, t in Years] >= 0, Bin)\n",
    "@variable(model, e_h[h in H, t in Years] >= 0, Bin)\n",
    "@variable(model, e_m[m in M, t in Years] >= 0, Bin)\n",
    "@variable(model, e_v[v in V, t in Years] >= 0, Bin)\n",
    "@variable(model, e_tr[r in R, t in Years] >= 0, Bin)\n",
    "@variable(model, chargingstation2[t in Years] >= 0, Int)\n",
    "@variable(model, chargingstation3[t in Years] >= 0, Int)\n",
    "\n",
    "# Objective function (minimize the total cost)\n",
    "@objective(model, Min, sum(fleet[1][s, t]*e_s[s, t] for s in S for t in Years)\n",
    "        + sum(fleet[2][h, t]*e_h[h, t] for h in H for t in Years)\n",
    "        + sum(fleet[3][m, t]*e_m[m, t] for m in M for t in Years)\n",
    "        + sum(fleet[4][v, t]*e_v[v, t] for v in V for t in Years)\n",
    "        + sum(fleet[5][r, t]*e_tr[r, t] for r in R for t in Years)\n",
    "        + sum(charge_cost2[t]*(chargingstation2[t]) for t in Years)\n",
    "        + sum(charge_cost3[t]*(chargingstation3[t]) for t in Years))\n",
    "        \n",
    "# Constraints\n",
    "#Each individual vehicle can only be electrified once\n",
    "for s in S\n",
    "        @constraint(model, sum(e_s[s, t] for t in Years) == 1)\n",
    "end\n",
    "for h in H\n",
    "        @constraint(model, sum(e_h[h, t] for t in Years) == 1)\n",
    "end\n",
    "for m in M\n",
    "        @constraint(model, sum(e_m[m, t] for t in Years) == 1)\n",
    "end\n",
    "for v in V\n",
    "        @constraint(model, sum(e_v[v, t] for t in Years) == 1)\n",
    "end\n",
    "for r in R\n",
    "        @constraint(model, sum(e_tr[r, t] for t in Years) == 1)\n",
    "end\n",
    "#Year 7 electric percentage constraints\n",
    "@constraint(model, year8sedan, sum(e_s[:,1:8]) >= S[end])\n",
    "@constraint(model, year8hybrid, sum(e_h[:,1:8]) >= H[end])\n",
    "@constraint(model, year8mini, sum(e_m[:,1:8]) >= M[end]*.4)\n",
    "@constraint(model, year8van, sum(e_v[:,1:8]) >= V[end]*.4)\n",
    "@constraint(model, year8truck, sum(e_tr[:,1:8]) >= R[end]*.4)\n",
    "#Year 13 final electric percentage constraints (sedans and hybrids do not need this one)\n",
    "@constraint(model, year13mini, sum(e_m) >= M[end])\n",
    "@constraint(model, year13van, sum(e_v) >= V[end])\n",
    "@constraint(model, year13truck, sum(e_tr) >= R[end])\n",
    "#Charging station constraints\n",
    "for t in Years\n",
    "        @constraint(model, 35000*sum(chargingstation2[1:t]) + 240000*sum(chargingstation3[1:t]) >=\n",
    "                fleetkWh[1]*sum(e_s[:,1:t]) + fleetkWh[2]*sum(e_h[:,1:t]) + fleetkWh[3]*sum(e_m[:,1:t])\n",
    "                + fleetkWh[4]*sum(e_v[:,1:t]) + fleetkWh[5]*sum(e_tr[:,1:t]))\n",
    "end"
   ]
  },
  {
   "cell_type": "code",
   "execution_count": 161,
   "metadata": {},
   "outputs": [
    {
     "name": "stdout",
     "output_type": "stream",
     "text": [
      "Running HiGHS 1.5.3 [date: 1970-01-01, git hash: 45a127b78]\n",
      "Copyright (c) 2023 HiGHS under MIT licence terms\n",
      "Presolving model\n",
      "1221 rows, 15626 cols, 143682 nonzeros\n",
      "1218 rows, 8089 cols, 46736 nonzeros\n",
      "\n",
      "Solving MIP model with:\n",
      "   1218 rows\n",
      "   8089 cols (8063 binary, 26 integer, 0 implied int., 0 continuous)\n",
      "   46736 nonzeros\n",
      "\n",
      "        Nodes      |    B&B Tree     |            Objective Bounds              |  Dynamic Constraints |       Work      \n",
      "     Proc. InQueue |  Leaves   Expl. | BestBound       BestSol              Gap |   Cuts   InLp Confl. | LpIters     Time\n",
      "\n",
      "         0       0         0   0.00%   0               inf                  inf        0      0      0         0     0.1s\n",
      " S       0       0         0   0.00%   0               51887785.88839   100.00%        0      0      0         0     0.2s\n",
      "\n",
      "15.1% inactive integer columns, restarting\n",
      "Model after restart has 762 rows, 6590 cols (6563 bin., 27 int., 0 impl., 0 cont.), and 36237 nonzeros\n",
      "\n",
      "         0       0         0   0.00%   51816919.76934  51887785.88839     0.14%        0      0      0       768     0.7s\n",
      "         0       0         0   0.00%   51816919.76934  51887785.88839     0.14%        0      0     25       814     0.9s\n",
      "         0       0         0   0.00%   51817761.79315  51887785.88839     0.13%       42      5   1151       819     6.8s\n",
      " L       0       0         0   0.00%   51817823.11806  51817950.53241     0.00%      181     17   1151       836    10.0s\n",
      "\n",
      "Solving report\n",
      "  Status            Optimal\n",
      "  Primal bound      51817950.5324\n",
      "  Dual bound        51817823.1181\n",
      "  Gap               0.000246% (tolerance: 0.01%)\n",
      "  Solution status   feasible\n",
      "                    51817950.5324 (objective)\n",
      "                    0 (bound viol.)\n",
      "                    1.13686837722e-13 (int. viol.)\n",
      "                    0 (row viol.)\n",
      "  Timing            10.00 (total)\n",
      "                    0.20 (presolve)\n",
      "                    0.00 (postsolve)\n",
      "  Nodes             1\n",
      "  LP iterations     1016 (total)\n",
      "                    0 (strong br.)\n",
      "                    22 (separation)\n",
      "                    180 (heuristics)\n"
     ]
    }
   ],
   "source": [
    "optimize!(model)"
   ]
  },
  {
   "cell_type": "code",
   "execution_count": 163,
   "metadata": {},
   "outputs": [
    {
     "name": "stdout",
     "output_type": "stream",
     "text": [
      "value.(chargingstation3) = 1-dimensional DenseAxisArray{Float64,1,...} with index sets:\n",
      "    Dimension 1, 1:13\n",
      "And data, a 13-element Vector{Float64}:\n",
      " 0.0\n",
      " 0.0\n",
      " 0.0\n",
      " 0.0\n",
      " 0.0\n",
      " 0.0\n",
      " 1.9999999999999993\n",
      " 0.0\n",
      " 0.0\n",
      " 0.0\n",
      " 0.0\n",
      " 0.0\n",
      " 0.0\n",
      "value.(sum(e_tr[:, 5:end])) = -5.684341886080802e-14\n"
     ]
    },
    {
     "data": {
      "text/plain": [
       "-5.684341886080802e-14"
      ]
     },
     "execution_count": 163,
     "metadata": {},
     "output_type": "execute_result"
    }
   ],
   "source": [
    "@show(value.(chargingstation3))\n",
    "@show(value.(sum(e_tr[:,5:end])))"
   ]
  }
 ],
 "metadata": {
  "kernelspec": {
   "display_name": "Julia 1.9.3",
   "language": "julia",
   "name": "julia-1.9"
  },
  "language_info": {
   "file_extension": ".jl",
   "mimetype": "application/julia",
   "name": "julia",
   "version": "1.9.3"
  }
 },
 "nbformat": 4,
 "nbformat_minor": 2
}
