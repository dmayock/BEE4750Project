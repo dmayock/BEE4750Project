{
 "cells": [
  {
   "cell_type": "code",
   "execution_count": 3,
   "metadata": {},
   "outputs": [
    {
     "name": "stderr",
     "output_type": "stream",
     "text": [
      "\u001b[32m\u001b[1m   Resolving\u001b[22m\u001b[39m package versions...\n",
      "\u001b[32m\u001b[1m  No Changes\u001b[22m\u001b[39m to `C:\\Users\\Deacon\\.julia\\environments\\v1.9\\Project.toml`\n",
      "\u001b[32m\u001b[1m  No Changes\u001b[22m\u001b[39m to `C:\\Users\\Deacon\\.julia\\environments\\v1.9\\Manifest.toml`\n",
      "\u001b[32m\u001b[1m   Resolving\u001b[22m\u001b[39m package versions...\n",
      "\u001b[32m\u001b[1m  No Changes\u001b[22m\u001b[39m to `C:\\Users\\Deacon\\.julia\\environments\\v1.9\\Project.toml`\n",
      "\u001b[32m\u001b[1m  No Changes\u001b[22m\u001b[39m to `C:\\Users\\Deacon\\.julia\\environments\\v1.9\\Manifest.toml`\n"
     ]
    }
   ],
   "source": [
    "#test to show the git can both push and pull from Deacon, delete later\n",
    "using Pkg\n",
    "Pkg.add(\"JuMP\")\n",
    "Pkg.add(\"GLPK\")  # or any other suitable solver, like CPLEX, Gurobi, etc."
   ]
  },
  {
   "cell_type": "code",
   "execution_count": 4,
   "metadata": {},
   "outputs": [
    {
     "name": "stderr",
     "output_type": "stream",
     "text": [
      "\u001b[32m\u001b[1m   Resolving\u001b[22m\u001b[39m package versions...\n",
      "\u001b[32m\u001b[1m   Installed\u001b[22m\u001b[39m FillArrays ─ v1.8.0\n",
      "\u001b[32m\u001b[1m   Installed\u001b[22m\u001b[39m PDMats ───── v0.11.30\n",
      "\u001b[32m\u001b[1m    Updating\u001b[22m\u001b[39m `C:\\Users\\Deacon\\.julia\\environments\\v1.9\\Project.toml`\n",
      "  \u001b[90m[31c24e10] \u001b[39m\u001b[92m+ Distributions v0.25.103\u001b[39m\n",
      "\u001b[32m\u001b[1m    Updating\u001b[22m\u001b[39m `C:\\Users\\Deacon\\.julia\\environments\\v1.9\\Manifest.toml`\n",
      "  \u001b[90m[49dc2e85] \u001b[39m\u001b[92m+ Calculus v0.5.1\u001b[39m\n",
      "  \u001b[90m[31c24e10] \u001b[39m\u001b[92m+ Distributions v0.25.103\u001b[39m\n",
      "  \u001b[90m[fa6b7ba4] \u001b[39m\u001b[92m+ DualNumbers v0.6.8\u001b[39m\n",
      "  \u001b[90m[1a297f60] \u001b[39m\u001b[92m+ FillArrays v1.8.0\u001b[39m\n",
      "  \u001b[90m[34004b35] \u001b[39m\u001b[92m+ HypergeometricFunctions v0.3.23\u001b[39m\n",
      "  \u001b[90m[90014a1f] \u001b[39m\u001b[92m+ PDMats v0.11.30\u001b[39m\n",
      "  \u001b[90m[1fd47b50] \u001b[39m\u001b[92m+ QuadGK v2.9.1\u001b[39m\n",
      "  \u001b[90m[79098fc4] \u001b[39m\u001b[92m+ Rmath v0.7.1\u001b[39m\n",
      "  \u001b[90m[4c63d2b9] \u001b[39m\u001b[92m+ StatsFuns v1.3.0\u001b[39m\n",
      "  \u001b[90m[f50d1b31] \u001b[39m\u001b[92m+ Rmath_jll v0.4.0+0\u001b[39m\n",
      "  \u001b[90m[4607b0f0] \u001b[39m\u001b[92m+ SuiteSparse\u001b[39m\n",
      "\u001b[32m\u001b[1mPrecompiling\u001b[22m\u001b[39m project...\n",
      "\u001b[32m  ✓ \u001b[39m\u001b[90mPDMats\u001b[39m\n",
      "\u001b[32m  ✓ \u001b[39m\u001b[90mFillArrays\u001b[39m\n",
      "\u001b[32m  ✓ \u001b[39m\u001b[90mFillArrays → FillArraysSparseArraysExt\u001b[39m\n",
      "\u001b[32m  ✓ \u001b[39m\u001b[90mFillArrays → FillArraysStatisticsExt\u001b[39m\n",
      "\u001b[32m  ✓ \u001b[39m\u001b[90mFillArrays → FillArraysPDMatsExt\u001b[39m\n",
      "\u001b[32m  ✓ \u001b[39mDistributions\n",
      "\u001b[32m  ✓ \u001b[39m\u001b[90mDistributions → DistributionsTestExt\u001b[39m\n",
      "  7 dependencies successfully precompiled in 22 seconds. 227 already precompiled. 1 skipped during auto due to previous errors.\n"
     ]
    }
   ],
   "source": [
    "Pkg.add(\"Distributions\")\n",
    "using Distributions"
   ]
  },
  {
   "cell_type": "code",
   "execution_count": 5,
   "metadata": {},
   "outputs": [
    {
     "data": {
      "text/plain": [
       "5-element Vector{Int64}:\n",
       " 0\n",
       " 0\n",
       " 0\n",
       " 0\n",
       " 0"
      ]
     },
     "execution_count": 5,
     "metadata": {},
     "output_type": "execute_result"
    }
   ],
   "source": [
    "sedans = rand(Uniform(0,14), 2, 3)\n",
    "hybrids = rand(Uniform(0,14), 2, 3)\n",
    "mini = rand(Uniform(0,14), 2, 3)\n",
    "vans = rand(Uniform(0,14), 2, 3)\n",
    "trucks = rand(Uniform(0,14), 2, 4) #creating the age sets for each type of vehicle, dimensions are 2 by # of vehicles\n",
    "fleet = [sedans, hybrids, mini, vans, trucks]\n",
    "for i in 1:length(fleet)\n",
    "    for k in 1:size(fleet[i],2)\n",
    "        fleet[i][1,k] = round(fleet[i][1,k]) #round all vehicle ages to nearest year\n",
    "        fleet[i][2,k] = 0 #boolean of whether a vehicle is electric\n",
    "    end\n",
    "end\n",
    "fleetMiles = [4000,4000,4000,4000,12000] #based on US survey, car and van miles are 1/3 because fleet services says they are only checked out roughly 1/3 the time while trucks are mostly permanently assigned, same order as variables are initialized\n",
    "gasCost = [0.18, 12, 23, 32, 24] #rough dollars of gas per mile driven, same order as above\n",
    "elecCost = [0,0,0,0,0] #rough dollars of electricity per mile driven, same order\n",
    "newGas = [0,0,0,0,0] #cost of buying a new gas vehicle of type n, same order\n",
    "newElec = [0,0,0,0,0] #cost of buying a new electric vehicle of type n, same order\n"
   ]
  },
  {
   "cell_type": "code",
   "execution_count": 6,
   "metadata": {},
   "outputs": [],
   "source": [
    "#yearly fleet operation cost\n",
    "totalYearlyCost = 0\n",
    "for i in 1:length(fleet)\n",
    "    for k in 1:size(fleet[i],2)\n",
    "        if fleet[i][2,k] == 0 #check for electric\n",
    "            totalYearlyCost += fleetMiles[i]*gasCost[i]\n",
    "        else \n",
    "            totalYearlyCost += fleetMiles[i]*elecCost[i] #could look to add a year modifyer to decrease electricity costs\n",
    "        end\n",
    "    end\n",
    "end\n"
   ]
  },
  {
   "cell_type": "code",
   "execution_count": null,
   "metadata": {},
   "outputs": [],
   "source": [
    "#function to replace vehicles, needs to be able to modify fleet array somehow"
   ]
  },
  {
   "cell_type": "code",
   "execution_count": 7,
   "metadata": {},
   "outputs": [
    {
     "ename": "LoadError",
     "evalue": "LoadError: At In[7]:10: `@objective(model, Min)`: needs three arguments: model, objective sense (Max or Min) and expression.\nin expression starting at In[7]:10",
     "output_type": "error",
     "traceback": [
      "LoadError: At In[7]:10: `@objective(model, Min)`: needs three arguments: model, objective sense (Max or Min) and expression.\nin expression starting at In[7]:10",
      "",
      "Stacktrace:",
      " [1] error(::String, ::String)",
      "   @ Base .\\error.jl:44",
      " [2] _macro_error(macroname::Symbol, args::Tuple{Symbol, Symbol}, source::LineNumberNode, str::String)",
      "   @ JuMP C:\\Users\\Deacon\\.julia\\packages\\JuMP\\ToPd2\\src\\macros.jl:2225",
      " [3] (::JuMP.var\"#_error#95\"{LineNumberNode, Symbol, Tuple{Symbol}})(str::String)",
      "   @ JuMP C:\\Users\\Deacon\\.julia\\packages\\JuMP\\ToPd2\\src\\macros.jl:1845",
      " [4] var\"@objective\"(__source__::LineNumberNode, __module__::Module, model::Any, args::Vararg{Any})",
      "   @ JuMP C:\\Users\\Deacon\\.julia\\packages\\JuMP\\ToPd2\\src\\macros.jl:1852"
     ]
    }
   ],
   "source": [
    "using JuMP\n",
    "using GLPK  # or your preferred solver\n",
    "\n",
    "model = Model(GLPK.Optimizer)\n",
    "\n",
    "# Decision variables\n",
    "@variable(model, )\n",
    "\n",
    "# Objective function (minimize the total cost)\n",
    "@objective(model, Min, )\n",
    "\n",
    "# Constraints (e.g., only one replacement per year)\n"
   ]
  }
 ],
 "metadata": {
  "kernelspec": {
   "display_name": "Julia 1.9.3",
   "language": "julia",
   "name": "julia-1.9"
  },
  "language_info": {
   "file_extension": ".jl",
   "mimetype": "application/julia",
   "name": "julia",
   "version": "1.9.3"
  }
 },
 "nbformat": 4,
 "nbformat_minor": 2
}
