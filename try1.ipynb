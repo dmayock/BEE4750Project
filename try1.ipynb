{
 "cells": [
  {
   "cell_type": "code",
   "execution_count": 3,
   "metadata": {},
   "outputs": [
    {
     "name": "stderr",
     "output_type": "stream",
     "text": [
      "\u001b[32m\u001b[1m    Updating\u001b[22m\u001b[39m registry at `C:\\Users\\Deacon\\.julia\\registries\\General.toml`\n",
      "\u001b[32m\u001b[1m   Resolving\u001b[22m\u001b[39m package versions...\n",
      "\u001b[32m\u001b[1m  No Changes\u001b[22m\u001b[39m to `C:\\Users\\Deacon\\.julia\\environments\\v1.9\\Project.toml`\n",
      "\u001b[32m\u001b[1m  No Changes\u001b[22m\u001b[39m to `C:\\Users\\Deacon\\.julia\\environments\\v1.9\\Manifest.toml`\n",
      "\u001b[32m\u001b[1m   Resolving\u001b[22m\u001b[39m package versions...\n",
      "\u001b[32m\u001b[1m  No Changes\u001b[22m\u001b[39m to `C:\\Users\\Deacon\\.julia\\environments\\v1.9\\Project.toml`\n",
      "\u001b[32m\u001b[1m  No Changes\u001b[22m\u001b[39m to `C:\\Users\\Deacon\\.julia\\environments\\v1.9\\Manifest.toml`\n"
     ]
    }
   ],
   "source": [
    "using Pkg\n",
    "Pkg.add(\"JuMP\")\n",
    "Pkg.add(\"GLPK\")  # or any other suitable solver, like CPLEX, Gurobi, etc."
   ]
  },
  {
   "cell_type": "code",
   "execution_count": 4,
   "metadata": {},
   "outputs": [
    {
     "name": "stderr",
     "output_type": "stream",
     "text": [
      "\u001b[32m\u001b[1m   Resolving\u001b[22m\u001b[39m package versions...\n",
      "\u001b[32m\u001b[1m  No Changes\u001b[22m\u001b[39m to `C:\\Users\\Deacon\\.julia\\environments\\v1.9\\Project.toml`\n",
      "\u001b[32m\u001b[1m  No Changes\u001b[22m\u001b[39m to `C:\\Users\\Deacon\\.julia\\environments\\v1.9\\Manifest.toml`\n"
     ]
    }
   ],
   "source": [
    "Pkg.add(\"Distributions\")\n",
    "using Distributions"
   ]
  },
  {
   "cell_type": "code",
   "execution_count": 25,
   "metadata": {},
   "outputs": [
    {
     "data": {
      "text/plain": [
       "ReplacementCost (generic function with 1 method)"
      ]
     },
     "execution_count": 25,
     "metadata": {},
     "output_type": "execute_result"
    }
   ],
   "source": [
    "#function to calculate replacement cost\n",
    "function ReplacementCost(initialcost, mincost, years, age, depreciation_rate)\n",
    "    dep_years = years[age:end]\n",
    "    for i = 1:length(dep_years)\n",
    "        costs[i] = initialcost * depreciation_rate^(-1 * (dep_years[i])) + mincost\n",
    "    end\n",
    "    return costs\n",
    " end\n",
    " #Test example for how to use function\n",
    " #=years = collect(1:15)\n",
    " age = 3\n",
    " dep_years = years[age:end]\n",
    " initialcost = 25000\n",
    " mincost = 12500\n",
    " depreciation_rate = 1.5\n",
    " costs = zeros(1,length(dep_years))\n",
    " for i = 1:length(dep_years)\n",
    "    costs[i] = initialcost * depreciation_rate^(-1 * (dep_years[i])) + mincost\n",
    " end=#"
   ]
  },
  {
   "cell_type": "code",
   "execution_count": 5,
   "metadata": {},
   "outputs": [
    {
     "data": {
      "text/plain": [
       "5-element Vector{Int64}:\n",
       " 0\n",
       " 0\n",
       " 0\n",
       " 0\n",
       " 0"
      ]
     },
     "execution_count": 5,
     "metadata": {},
     "output_type": "execute_result"
    }
   ],
   "source": [
    "sedans = rand(Uniform(0,14), 2, 3, 13)\n",
    "hybrids = rand(Uniform(0,14), 2, 3, 13)\n",
    "mini = rand(Uniform(0,14), 2, 3, 13)\n",
    "vans = rand(Uniform(0,14), 2, 3, 13)\n",
    "trucks = rand(Uniform(0,14), 2, 4, 13) #creating the age sets for each type of vehicle, dimensions are 2 by # of vehicles\n",
    "fleet = [sedans, hybrids, mini, vans, trucks]\n",
    "for i in 1:length(fleet)\n",
    "    for k in 1:size(fleet[i],2)\n",
    "        for t in 1:13\n",
    "            fleet[i][1,k,t] = round(fleet[i][1,k,t]) #round all vehicle ages to nearest year\n",
    "            fleet[i][2,k,t] = 0 #boolean of whether a vehicle is electric\n",
    "        end\n",
    "    end\n",
    "end\n",
    "fleetMiles = [4000,4000,4000,4000,12000] #based on US survey, car and van miles are 1/3 because fleet services says they are only checked out roughly 1/3 the time while trucks are mostly permanently assigned, same order as variables are initialized\n",
    "gasCost = [0.18, 12, 23, 32, 24] #rough dollars of gas per mile driven, same order as above\n",
    "elecCost = [0,0,0,0,0] #rough dollars of electricity per mile driven, same order\n",
    "newGas = [0,0,0,0,0] #cost of buying a new gas vehicle of type n, same order\n",
    "newElec = [0,0,0,0,0] #cost of buying a new electric vehicle of type n, same order"
   ]
  },
  {
   "cell_type": "code",
   "execution_count": 18,
   "metadata": {},
   "outputs": [],
   "source": [
    "function travelCost(fleet, t)\n",
    "    totalYearlyCost = 0\n",
    "    for i in 1:length(fleet)\n",
    "        for k in 1:size(fleet[i],2)\n",
    "            for t in 1:13\n",
    "                if fleet[i][2,k,t] == 0 #check for electric\n",
    "                    totalYearlyCost += fleetMiles[i]*gasCost[i]\n",
    "                else \n",
    "                    totalYearlyCost += fleetMiles[i]*elecCost[i] #could look to add a year modifyer to decrease electricity costs\n",
    "                end\n",
    "            end\n",
    "        end\n",
    "    end\n",
    "end\n"
   ]
  },
  {
   "cell_type": "code",
   "execution_count": 7,
   "metadata": {},
   "outputs": [
    {
     "ename": "LoadError",
     "evalue": "LoadError: At In[7]:10: `@objective(model, Min)`: needs three arguments: model, objective sense (Max or Min) and expression.\nin expression starting at In[7]:10",
     "output_type": "error",
     "traceback": [
      "LoadError: At In[7]:10: `@objective(model, Min)`: needs three arguments: model, objective sense (Max or Min) and expression.\nin expression starting at In[7]:10",
      "",
      "Stacktrace:",
      " [1] error(::String, ::String)",
      "   @ Base .\\error.jl:44",
      " [2] _macro_error(macroname::Symbol, args::Tuple{Symbol, Symbol}, source::LineNumberNode, str::String)",
      "   @ JuMP C:\\Users\\Deacon\\.julia\\packages\\JuMP\\ToPd2\\src\\macros.jl:2225",
      " [3] (::JuMP.var\"#_error#95\"{LineNumberNode, Symbol, Tuple{Symbol}})(str::String)",
      "   @ JuMP C:\\Users\\Deacon\\.julia\\packages\\JuMP\\ToPd2\\src\\macros.jl:1845",
      " [4] var\"@objective\"(__source__::LineNumberNode, __module__::Module, model::Any, args::Vararg{Any})",
      "   @ JuMP C:\\Users\\Deacon\\.julia\\packages\\JuMP\\ToPd2\\src\\macros.jl:1852"
     ]
    }
   ],
   "source": [
    "using JuMP\n",
    "using HiGHS  # or your preferred solver\n",
    "\n",
    "model = Model(HiGHS.Optimizer)\n",
    "\n",
    "# Decision variables\n",
    "@variable(model, )\n",
    "\n",
    "# Objective function (minimize the total cost)\n",
    "@objective(model, Min, )\n",
    "\n",
    "# Constraints (e.g., only one replacement per year)\n",
    "@constraint(model, electric_goal1, sum(fleet[i] for i in type))"
   ]
  }
 ],
 "metadata": {
  "kernelspec": {
   "display_name": "Julia 1.9.3",
   "language": "julia",
   "name": "julia-1.9"
  },
  "language_info": {
   "file_extension": ".jl",
   "mimetype": "application/julia",
   "name": "julia",
   "version": "1.9.3"
  }
 },
 "nbformat": 4,
 "nbformat_minor": 2
}
